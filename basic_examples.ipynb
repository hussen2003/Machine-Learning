{
 "cells": [
  {
   "cell_type": "code",
   "execution_count": 38,
   "id": "9e164e27",
   "metadata": {},
   "outputs": [
    {
     "name": "stdout",
     "output_type": "stream",
     "text": [
      "Hello, World!\n"
     ]
    }
   ],
   "source": [
    "print(\"Hello, World!\")"
   ]
  },
  {
   "cell_type": "markdown",
   "id": "02a92437",
   "metadata": {},
   "source": [
    "Simple math operations and variable assignments"
   ]
  },
  {
   "cell_type": "code",
   "execution_count": 39,
   "id": "dbdd023a",
   "metadata": {},
   "outputs": [
    {
     "data": {
      "text/plain": [
       "4"
      ]
     },
     "execution_count": 39,
     "metadata": {},
     "output_type": "execute_result"
    }
   ],
   "source": [
    "2+2"
   ]
  },
  {
   "cell_type": "code",
   "execution_count": 40,
   "id": "39176d49",
   "metadata": {},
   "outputs": [],
   "source": [
    "x = 2"
   ]
  },
  {
   "cell_type": "code",
   "execution_count": 41,
   "id": "c8facb57",
   "metadata": {},
   "outputs": [],
   "source": [
    "y = 2"
   ]
  },
  {
   "cell_type": "code",
   "execution_count": 42,
   "id": "f7e08516",
   "metadata": {},
   "outputs": [],
   "source": [
    "z = x + y"
   ]
  },
  {
   "cell_type": "code",
   "execution_count": 43,
   "id": "9ce56ffd",
   "metadata": {},
   "outputs": [
    {
     "data": {
      "text/plain": [
       "4"
      ]
     },
     "execution_count": 43,
     "metadata": {},
     "output_type": "execute_result"
    }
   ],
   "source": [
    "z"
   ]
  },
  {
   "cell_type": "markdown",
   "id": "3c665e13",
   "metadata": {},
   "source": [
    "Arithmetic Operations"
   ]
  },
  {
   "cell_type": "code",
   "execution_count": 44,
   "id": "8e5ee3d5",
   "metadata": {},
   "outputs": [
    {
     "data": {
      "text/plain": [
       "(4, -1, 6, 0.6666666666666666, 8)"
      ]
     },
     "execution_count": 44,
     "metadata": {},
     "output_type": "execute_result"
    }
   ],
   "source": [
    "1 + 3, 2 - 3, 2 * 3, 2 / 3, 2**3"
   ]
  },
  {
   "cell_type": "markdown",
   "id": "a78158c1",
   "metadata": {},
   "source": [
    "Logical operators"
   ]
  },
  {
   "cell_type": "code",
   "execution_count": 45,
   "id": "339a9f8f",
   "metadata": {},
   "outputs": [
    {
     "data": {
      "text/plain": [
       "(False, False, True)"
      ]
     },
     "execution_count": 45,
     "metadata": {},
     "output_type": "execute_result"
    }
   ],
   "source": [
    "2 > 3, 3 > 3, 3 > 2"
   ]
  },
  {
   "cell_type": "code",
   "execution_count": 46,
   "id": "63851ac8",
   "metadata": {},
   "outputs": [
    {
     "data": {
      "text/plain": [
       "True"
      ]
     },
     "execution_count": 46,
     "metadata": {},
     "output_type": "execute_result"
    }
   ],
   "source": [
    "3 >= 3"
   ]
  },
  {
   "cell_type": "code",
   "execution_count": 47,
   "id": "3952ce1f",
   "metadata": {},
   "outputs": [
    {
     "data": {
      "text/plain": [
       "True"
      ]
     },
     "execution_count": 47,
     "metadata": {},
     "output_type": "execute_result"
    }
   ],
   "source": [
    "3 <= 3"
   ]
  },
  {
   "cell_type": "code",
   "execution_count": 48,
   "id": "6dff2db8",
   "metadata": {},
   "outputs": [
    {
     "data": {
      "text/plain": [
       "True"
      ]
     },
     "execution_count": 48,
     "metadata": {},
     "output_type": "execute_result"
    }
   ],
   "source": [
    "2 == 2"
   ]
  },
  {
   "cell_type": "markdown",
   "id": "211ab051",
   "metadata": {},
   "source": [
    "Data types"
   ]
  },
  {
   "cell_type": "code",
   "execution_count": 49,
   "id": "02423d70",
   "metadata": {},
   "outputs": [],
   "source": [
    "x = 1"
   ]
  },
  {
   "cell_type": "code",
   "execution_count": 50,
   "id": "8d61819d",
   "metadata": {},
   "outputs": [
    {
     "data": {
      "text/plain": [
       "int"
      ]
     },
     "execution_count": 50,
     "metadata": {},
     "output_type": "execute_result"
    }
   ],
   "source": [
    "type(x)"
   ]
  },
  {
   "cell_type": "code",
   "execution_count": 51,
   "id": "0d496529",
   "metadata": {},
   "outputs": [],
   "source": [
    "y = 2"
   ]
  },
  {
   "cell_type": "code",
   "execution_count": 52,
   "id": "c062d77a",
   "metadata": {},
   "outputs": [],
   "source": [
    "z = x/y"
   ]
  },
  {
   "cell_type": "code",
   "execution_count": 53,
   "id": "c748f43e",
   "metadata": {},
   "outputs": [
    {
     "data": {
      "text/plain": [
       "0.5"
      ]
     },
     "execution_count": 53,
     "metadata": {},
     "output_type": "execute_result"
    }
   ],
   "source": [
    "z"
   ]
  },
  {
   "cell_type": "code",
   "execution_count": 54,
   "id": "e3a1fa48",
   "metadata": {},
   "outputs": [
    {
     "data": {
      "text/plain": [
       "float"
      ]
     },
     "execution_count": 54,
     "metadata": {},
     "output_type": "execute_result"
    }
   ],
   "source": [
    "type(z)"
   ]
  },
  {
   "cell_type": "code",
   "execution_count": 55,
   "id": "1bc96142",
   "metadata": {},
   "outputs": [],
   "source": [
    "test = (z>1)"
   ]
  },
  {
   "cell_type": "code",
   "execution_count": 56,
   "id": "cbbe8bd8",
   "metadata": {},
   "outputs": [
    {
     "data": {
      "text/plain": [
       "False"
      ]
     },
     "execution_count": 56,
     "metadata": {},
     "output_type": "execute_result"
    }
   ],
   "source": [
    "test"
   ]
  },
  {
   "cell_type": "code",
   "execution_count": 57,
   "id": "36863a57",
   "metadata": {},
   "outputs": [
    {
     "data": {
      "text/plain": [
       "bool"
      ]
     },
     "execution_count": 57,
     "metadata": {},
     "output_type": "execute_result"
    }
   ],
   "source": [
    "type(test)"
   ]
  },
  {
   "cell_type": "markdown",
   "id": "b887840c",
   "metadata": {},
   "source": [
    "More examples"
   ]
  },
  {
   "cell_type": "code",
   "execution_count": 58,
   "id": "e34b4ebf",
   "metadata": {},
   "outputs": [],
   "source": [
    "output = 182%13"
   ]
  },
  {
   "cell_type": "code",
   "execution_count": 59,
   "id": "8d2560f5",
   "metadata": {},
   "outputs": [
    {
     "data": {
      "text/plain": [
       "0"
      ]
     },
     "execution_count": 59,
     "metadata": {},
     "output_type": "execute_result"
    }
   ],
   "source": [
    "output"
   ]
  },
  {
   "cell_type": "code",
   "execution_count": 60,
   "id": "554f5c92",
   "metadata": {},
   "outputs": [
    {
     "data": {
      "text/plain": [
       "int"
      ]
     },
     "execution_count": 60,
     "metadata": {},
     "output_type": "execute_result"
    }
   ],
   "source": [
    "type(output)"
   ]
  },
  {
   "cell_type": "code",
   "execution_count": 61,
   "id": "ecc5a1d9",
   "metadata": {},
   "outputs": [
    {
     "data": {
      "text/plain": [
       "True"
      ]
     },
     "execution_count": 61,
     "metadata": {},
     "output_type": "execute_result"
    }
   ],
   "source": [
    "output == 0"
   ]
  },
  {
   "cell_type": "code",
   "execution_count": 62,
   "id": "77c1a93f",
   "metadata": {},
   "outputs": [],
   "source": [
    "output = 182/13"
   ]
  },
  {
   "cell_type": "code",
   "execution_count": 63,
   "id": "f95dd287",
   "metadata": {},
   "outputs": [
    {
     "data": {
      "text/plain": [
       "14.0"
      ]
     },
     "execution_count": 63,
     "metadata": {},
     "output_type": "execute_result"
    }
   ],
   "source": [
    "output"
   ]
  },
  {
   "cell_type": "code",
   "execution_count": 64,
   "id": "b5084e39",
   "metadata": {},
   "outputs": [
    {
     "data": {
      "text/plain": [
       "float"
      ]
     },
     "execution_count": 64,
     "metadata": {},
     "output_type": "execute_result"
    }
   ],
   "source": [
    "type(output)"
   ]
  },
  {
   "cell_type": "markdown",
   "id": "8434fc09",
   "metadata": {},
   "source": [
    "Control structures"
   ]
  },
  {
   "cell_type": "code",
   "execution_count": 65,
   "id": "2c60a246",
   "metadata": {},
   "outputs": [
    {
     "name": "stdout",
     "output_type": "stream",
     "text": [
      "Leap year\n",
      "Junior\n",
      "1\n",
      "2\n",
      "3\n",
      "4\n",
      "5\n",
      "1\n",
      "2\n",
      "3\n",
      "4\n",
      "5\n"
     ]
    }
   ],
   "source": [
    "year = 2020\n",
    "if (year%4 == 0):\n",
    "    print (\"Leap year\")\n",
    "else:\n",
    "    print (\"Not a leap year\")\n",
    "\n",
    "collegeYear = 3\n",
    "if (collegeYear == 1):\n",
    "    print (\"Freshman\")\n",
    "elif (collegeYear == 2):\n",
    "    print (\"Sophomore\")\n",
    "elif (collegeYear == 3):\n",
    "    print (\"Junior\")\n",
    "elif (collegeYear == 4):\n",
    "    print (\"Senior\")\n",
    "else:\n",
    "    print (\"Super-senior or not in college!\")\n",
    "\n",
    "a, b = 1, 5\n",
    "while (a<=b):\n",
    "    print (a)\n",
    "    a += 1\n",
    "\n",
    "for x in range(1, 6):\n",
    "    print (x)"
   ]
  },
  {
   "cell_type": "markdown",
   "id": "4e70c686",
   "metadata": {},
   "source": [
    "Pick  a number in the range 99-199. Check if divisible by 7. If not, print the number in the range that is closet to the number you have picked. Using a while loop print all the numbers in the range that are divisible by 7."
   ]
  },
  {
   "cell_type": "code",
   "execution_count": 66,
   "id": "2bec4f00",
   "metadata": {},
   "outputs": [
    {
     "name": "stdout",
     "output_type": "stream",
     "text": [
      "112\n",
      "105\n",
      "112\n",
      "119\n",
      "126\n",
      "133\n",
      "140\n",
      "147\n",
      "154\n",
      "161\n",
      "168\n",
      "175\n",
      "182\n",
      "189\n",
      "196\n"
     ]
    }
   ],
   "source": [
    "num = 108\n",
    "if (num % 7 == 0):\n",
    "  print(\"the number is divisible by 7\")\n",
    "else:\n",
    "  temp = num\n",
    "  while (temp % 7 != 0):\n",
    "    temp += 1\n",
    "  print(temp)\n",
    "\n",
    "i = 99\n",
    "while i < 200:\n",
    "  if (i % 7 == 0):\n",
    "    print(i)\n",
    "  i += 1"
   ]
  },
  {
   "cell_type": "markdown",
   "id": "ebef9108",
   "metadata": {},
   "source": [
    "Functions"
   ]
  },
  {
   "cell_type": "code",
   "execution_count": 67,
   "id": "fcd6f00d",
   "metadata": {},
   "outputs": [
    {
     "name": "stdout",
     "output_type": "stream",
     "text": [
      "11.090536506409418\n"
     ]
    },
    {
     "data": {
      "text/plain": [
       "float"
      ]
     },
     "execution_count": 67,
     "metadata": {},
     "output_type": "execute_result"
    }
   ],
   "source": [
    "import math             # importing math package\n",
    "x = math.sqrt(123)      # calling sqrt fn in math package\n",
    "print(x)                # print is available in core distribution of Python\n",
    "type(x)"
   ]
  },
  {
   "cell_type": "code",
   "execution_count": 68,
   "id": "8e64046f",
   "metadata": {},
   "outputs": [
    {
     "name": "stdout",
     "output_type": "stream",
     "text": [
      "0.479425538604203\n",
      "6.123233995736766e-17\n"
     ]
    }
   ],
   "source": [
    "from math import sin, cos    # importing specific function not the entire package\n",
    "print(sin(1/2))\n",
    "print(cos(math.pi/2))"
   ]
  },
  {
   "cell_type": "markdown",
   "id": "55856da8",
   "metadata": {},
   "source": [
    "Define our own function"
   ]
  },
  {
   "cell_type": "code",
   "execution_count": 69,
   "id": "abbd3c9c",
   "metadata": {},
   "outputs": [
    {
     "name": "stdout",
     "output_type": "stream",
     "text": [
      "Hello, World\n"
     ]
    }
   ],
   "source": [
    "def welcome():\n",
    "    print('Hello, World')\n",
    "welcome()"
   ]
  },
  {
   "cell_type": "code",
   "execution_count": 70,
   "id": "8f961639",
   "metadata": {},
   "outputs": [
    {
     "name": "stdout",
     "output_type": "stream",
     "text": [
      "125\n"
     ]
    }
   ],
   "source": [
    "def cube(x):\n",
    "    y = x*x*x\n",
    "    return y\n",
    "\n",
    "z = cube(5)\n",
    "print(z)"
   ]
  },
  {
   "cell_type": "markdown",
   "id": "4beda3a6",
   "metadata": {},
   "source": [
    "Function to search for string in a list of strings"
   ]
  },
  {
   "cell_type": "code",
   "execution_count": 71,
   "id": "7ef79e83",
   "metadata": {},
   "outputs": [
    {
     "name": "stdout",
     "output_type": "stream",
     "text": [
      "Item found\n"
     ]
    }
   ],
   "source": [
    "def search(list_of_items, item_to_find):\n",
    "  item_found = False\n",
    "  i = 0\n",
    "  while ((item_found==False) and (i<len(list_of_items))):\n",
    "    if (list_of_items[i]==item_to_find):\n",
    "      item_found = True\n",
    "    i = i + 1\n",
    "  return item_found\n",
    "  \n",
    "groceries = [\"apples\",\"yogurt\",\"cheese\"]\n",
    "\n",
    "if (search(groceries,'apples')):\n",
    "  print ('Item found')\n",
    "else:\n",
    "  print ('Item not found')"
   ]
  },
  {
   "cell_type": "code",
   "execution_count": 72,
   "id": "4c23f5a5",
   "metadata": {},
   "outputs": [
    {
     "data": {
      "text/plain": [
       "16.09"
      ]
     },
     "execution_count": 72,
     "metadata": {},
     "output_type": "execute_result"
    }
   ],
   "source": [
    "def miles2km(dist_mile):\n",
    "    dist_km = 1.609 * dist_mile\n",
    "    return dist_km\n",
    "\n",
    "miles2km(10)"
   ]
  },
  {
   "cell_type": "markdown",
   "id": "282b5942",
   "metadata": {},
   "source": [
    "Interactions"
   ]
  },
  {
   "cell_type": "code",
   "execution_count": 73,
   "id": "fee221ba",
   "metadata": {},
   "outputs": [
    {
     "ename": "ValueError",
     "evalue": "invalid literal for int() with base 10: ''",
     "output_type": "error",
     "traceback": [
      "\u001b[1;31m---------------------------------------------------------------------------\u001b[0m",
      "\u001b[1;31mValueError\u001b[0m                                Traceback (most recent call last)",
      "\u001b[1;32mc:\\Users\\husse\\OneDrive\\Documents\\EEL4815(Machine Learning\\basic_examples.ipynb Cell 47\u001b[0m line \u001b[0;36m4\n\u001b[0;32m      <a href='vscode-notebook-cell:/c%3A/Users/husse/OneDrive/Documents/EEL4815%28Machine%20Learning/basic_examples.ipynb#X64sZmlsZQ%3D%3D?line=1'>2</a>\u001b[0m     F \u001b[39m=\u001b[39m m \u001b[39m*\u001b[39m a\n\u001b[0;32m      <a href='vscode-notebook-cell:/c%3A/Users/husse/OneDrive/Documents/EEL4815%28Machine%20Learning/basic_examples.ipynb#X64sZmlsZQ%3D%3D?line=2'>3</a>\u001b[0m     \u001b[39mreturn\u001b[39;00m F\n\u001b[1;32m----> <a href='vscode-notebook-cell:/c%3A/Users/husse/OneDrive/Documents/EEL4815%28Machine%20Learning/basic_examples.ipynb#X64sZmlsZQ%3D%3D?line=3'>4</a>\u001b[0m m\u001b[39m=\u001b[39m \u001b[39mint\u001b[39m(\u001b[39minput\u001b[39m(\u001b[39m\"\u001b[39m\u001b[39mEnter the mass:\u001b[39m\u001b[39m\"\u001b[39m))\n\u001b[0;32m      <a href='vscode-notebook-cell:/c%3A/Users/husse/OneDrive/Documents/EEL4815%28Machine%20Learning/basic_examples.ipynb#X64sZmlsZQ%3D%3D?line=4'>5</a>\u001b[0m a \u001b[39m=\u001b[39m \u001b[39mint\u001b[39m(\u001b[39minput\u001b[39m(\u001b[39m\"\u001b[39m\u001b[39mEnter the acceleration:\u001b[39m\u001b[39m\"\u001b[39m))\n\u001b[0;32m      <a href='vscode-notebook-cell:/c%3A/Users/husse/OneDrive/Documents/EEL4815%28Machine%20Learning/basic_examples.ipynb#X64sZmlsZQ%3D%3D?line=5'>6</a>\u001b[0m F \u001b[39m=\u001b[39m ComputeForce(m,a)\n",
      "\u001b[1;31mValueError\u001b[0m: invalid literal for int() with base 10: ''"
     ]
    }
   ],
   "source": [
    "def ComputeForce(m,a):   # Computes the force as the product of mass and acceleration\n",
    "    F = m * a\n",
    "    return F\n",
    "m= int(input(\"Enter the mass:\"))\n",
    "a = int(input(\"Enter the acceleration:\"))\n",
    "F = ComputeForce(m,a)\n",
    "print(F)"
   ]
  },
  {
   "cell_type": "markdown",
   "id": "92c687cf",
   "metadata": {},
   "source": [
    "Some statistics and using numpy and matplotlib packages"
   ]
  },
  {
   "cell_type": "code",
   "execution_count": null,
   "id": "6d75cfab",
   "metadata": {},
   "outputs": [
    {
     "name": "stdout",
     "output_type": "stream",
     "text": [
      "Max:96\n",
      "Min:5\n",
      "Mean: 52.2400\n",
      "Variance:791.3824\n",
      "STD: 28.1315\n",
      "Median: 62.0000\n"
     ]
    },
    {
     "data": {
      "text/plain": [
       "<BarContainer object of 10 artists>"
      ]
     },
     "execution_count": 37,
     "metadata": {},
     "output_type": "execute_result"
    },
    {
     "data": {
      "image/png": "[encoded data removed]",
      "text/plain": [
       "<Figure size 640x480 with 1 Axes>"
      ]
     },
     "metadata": {},
     "output_type": "display_data"
    }
   ],
   "source": [
    "data1 = [85,62,78,64,25,12,74,96,63,45,78,20,5,30,45,78,45,96,65,45,74,12,78,23,8]\n",
    "import numpy as np\n",
    "max=np.max(data1)\n",
    "print(\"Max:{0:d}\".format(max))\n",
    "min=np.min(data1)\n",
    "print(\"Min:{0:d}\".format(min))\n",
    "\n",
    "mean=np.mean(data1) \n",
    "print(\"Mean:{0:8.4f}\".format(mean))\n",
    "\n",
    "variance=np.var(data1)\n",
    "print(\"Variance:{0:8.4f}\".format(variance))\n",
    "standarddev=np.std(data1)\n",
    "print(\"STD:{0:8.4f}\".format(standarddev))\n",
    "\n",
    "median=np.median(data1)\n",
    "print(\"Median:{0:8.4f}\".format(median))\n",
    "\n",
    "import matplotlib.pyplot as plt\n",
    "plt.figure()\n",
    "hist1, edges1 = np.histogram(data1)\n",
    "plt.bar(edges1[:-1], hist1, width=edges1[1:]-edges1[:-1])"
   ]
  },
  {
   "cell_type": "code",
   "execution_count": 74,
   "id": "d9699998",
   "metadata": {},
   "outputs": [
    {
     "name": "stdout",
     "output_type": "stream",
     "text": [
      "Max:  3.1396\n",
      "Min: -3.3968\n",
      "Mean:  0.0126\n",
      "Variance:  0.9601\n",
      "STD:  0.9798\n",
      "Median: -0.0050\n"
     ]
    },
    {
     "data": {
      "text/plain": [
       "<BarContainer object of 100 artists>"
      ]
     },
     "execution_count": 74,
     "metadata": {},
     "output_type": "execute_result"
    },
    {
     "data": {
      "image/png": "[encoded data removed]",
      "text/plain": [
       "<Figure size 640x480 with 1 Axes>"
      ]
     },
     "metadata": {},
     "output_type": "display_data"
    }
   ],
   "source": [
    "data2 = np.random.randn(5000)\n",
    "import numpy as np\n",
    "max=np.max(data2)\n",
    "print(\"Max:{0:8.4f}\".format(max))\n",
    "min=np.min(data2)\n",
    "print(\"Min:{0:8.4f}\".format(min))\n",
    "\n",
    "mean=np.mean(data2) \n",
    "print(\"Mean:{0:8.4f}\".format(mean))\n",
    "\n",
    "variance=np.var(data2)\n",
    "print(\"Variance:{0:8.4f}\".format(variance))\n",
    "standarddev=np.std(data2)\n",
    "print(\"STD:{0:8.4f}\".format(standarddev))\n",
    "\n",
    "median=np.median(data2)\n",
    "print(\"Median:{0:8.4f}\".format(median))\n",
    "\n",
    "import matplotlib.pyplot as plt\n",
    "plt.figure()\n",
    "hist2, edges2 = np.histogram(data2, bins = 100)     # can play with number of bins\n",
    "plt.bar(edges2[:-1], hist2, width=edges2[1:]-edges2[:-1])"
   ]
  },
  {
   "cell_type": "markdown",
   "id": "59a9653b",
   "metadata": {},
   "source": [
    "Pandas package and dataframes"
   ]
  },
  {
   "cell_type": "code",
   "execution_count": 75,
   "id": "2caa4ad8",
   "metadata": {},
   "outputs": [
    {
     "name": "stdout",
     "output_type": "stream",
     "text": [
      "1947\n"
     ]
    },
    {
     "data": {
      "image/png": "[encoded data removed]",
      "text/plain": [
       "<Figure size 640x480 with 1 Axes>"
      ]
     },
     "metadata": {},
     "output_type": "display_data"
    },
    {
     "data": {
      "text/plain": [
       "0.9835516111796693"
      ]
     },
     "execution_count": 75,
     "metadata": {},
     "output_type": "execute_result"
    }
   ],
   "source": [
    "from pandas import read_csv\n",
    "CSV_data = read_csv('data.csv')\n",
    "\n",
    "import pandas as pd\n",
    "df = pd.read_csv('data.csv')  # df is a dataframe\n",
    "print(df.iat[0,0])            # Accessing the entry in first row and first column\n",
    "\n",
    "\n",
    "import matplotlib.pyplot as plt\n",
    "plt.scatter(df.Employed, df.GNP)\n",
    "plt.xlabel(\"Total employment\")\n",
    "plt.ylabel(\"Gross national product\")\n",
    "plt.show()\n",
    "\n",
    "\n",
    "import numpy as np\n",
    "np.corrcoef(df.Employed,df.GNP)[0,1]"
   ]
  },
  {
   "cell_type": "code",
   "execution_count": 1,
   "id": "88125998",
   "metadata": {},
   "outputs": [
    {
     "ename": "NameError",
     "evalue": "name 'df' is not defined",
     "output_type": "error",
     "traceback": [
      "\u001b[1;31m---------------------------------------------------------------------------\u001b[0m",
      "\u001b[1;31mNameError\u001b[0m                                 Traceback (most recent call last)",
      "\u001b[1;32mc:\\Users\\husse\\OneDrive\\Documents\\EEL4815(Machine Learning\\basic_examples.ipynb Cell 53\u001b[0m line \u001b[0;36m1\n\u001b[1;32m----> <a href='vscode-notebook-cell:/c%3A/Users/husse/OneDrive/Documents/EEL4815%28Machine%20Learning/basic_examples.ipynb#Y103sZmlsZQ%3D%3D?line=0'>1</a>\u001b[0m \u001b[39mprint\u001b[39m(df\u001b[39m.\u001b[39mcolumns)\n\u001b[0;32m      <a href='vscode-notebook-cell:/c%3A/Users/husse/OneDrive/Documents/EEL4815%28Machine%20Learning/basic_examples.ipynb#Y103sZmlsZQ%3D%3D?line=1'>2</a>\u001b[0m \u001b[39mtype\u001b[39m(df)\n",
      "\u001b[1;31mNameError\u001b[0m: name 'df' is not defined"
     ]
    }
   ],
   "source": [
    "print(df.columns)\n",
    "type(df)"
   ]
  },
  {
   "cell_type": "code",
   "execution_count": null,
   "id": "d376b476",
   "metadata": {},
   "outputs": [
    {
     "name": "stdout",
     "output_type": "stream",
     "text": [
      "Unnamed: 0\n",
      "Max: 1962\n",
      "GNP.deflator\n",
      "Max: 116.9\n",
      "GNP\n",
      "Max: 554.894\n",
      "Unemployed\n",
      "Max: 480.6\n",
      "Armed.Forces\n",
      "Max: 359.4\n",
      "Population\n",
      "Max: 130.081\n",
      "Year\n",
      "Max: 1962\n",
      "Employed\n",
      "Max: 70.551\n"
     ]
    }
   ],
   "source": [
    "for col in df.columns:\n",
    "    print(col)\n",
    "    max=df[col].max()\n",
    "    print(\"Max: \" + str(max))"
   ]
  },
  {
   "cell_type": "code",
   "execution_count": null,
   "id": "aa754d51",
   "metadata": {},
   "outputs": [
    {
     "data": {
      "text/plain": [
       "(70.551, float)"
      ]
     },
     "execution_count": 55,
     "metadata": {},
     "output_type": "execute_result"
    }
   ],
   "source": [
    "max, type(max)"
   ]
  },
  {
   "cell_type": "code",
   "execution_count": 3,
   "id": "6989418b",
   "metadata": {},
   "outputs": [
    {
     "ename": "NameError",
     "evalue": "name 'df' is not defined",
     "output_type": "error",
     "traceback": [
      "\u001b[1;31m---------------------------------------------------------------------------\u001b[0m",
      "\u001b[1;31mNameError\u001b[0m                                 Traceback (most recent call last)",
      "\u001b[1;32mc:\\Users\\husse\\OneDrive\\Documents\\EEL4815(Machine Learning\\basic_examples.ipynb Cell 56\u001b[0m line \u001b[0;36m1\n\u001b[1;32m----> <a href='vscode-notebook-cell:/c%3A/Users/husse/OneDrive/Documents/EEL4815%28Machine%20Learning/basic_examples.ipynb#Y106sZmlsZQ%3D%3D?line=0'>1</a>\u001b[0m df\n",
      "\u001b[1;31mNameError\u001b[0m: name 'df' is not defined"
     ]
    }
   ],
   "source": [
    "df"
   ]
  },
  {
   "cell_type": "code",
   "execution_count": null,
   "id": "001f1d29",
   "metadata": {},
   "outputs": [
    {
     "data": {
      "text/plain": [
       "0     60.323\n",
       "1     61.122\n",
       "2     60.171\n",
       "3     61.187\n",
       "4     63.221\n",
       "5     63.639\n",
       "6     64.989\n",
       "7     63.761\n",
       "8     66.019\n",
       "9     67.857\n",
       "10    68.169\n",
       "11    66.513\n",
       "12    68.655\n",
       "13    69.564\n",
       "14    69.331\n",
       "15    70.551\n",
       "Name: Employed, dtype: float64"
      ]
     },
     "execution_count": 58,
     "metadata": {},
     "output_type": "execute_result"
    }
   ],
   "source": [
    "df[col]"
   ]
  },
  {
   "cell_type": "code",
   "execution_count": null,
   "id": "2ab46272",
   "metadata": {},
   "outputs": [
    {
     "data": {
      "text/plain": [
       "pandas.core.series.Series"
      ]
     },
     "execution_count": 59,
     "metadata": {},
     "output_type": "execute_result"
    }
   ],
   "source": [
    "type(df[col])"
   ]
  },
  {
   "cell_type": "code",
   "execution_count": null,
   "id": "6c2624a7",
   "metadata": {},
   "outputs": [
    {
     "name": "stdout",
     "output_type": "stream",
     "text": [
      "['hussen', 'bitch', 'lol', 'what', 'the', 'fuck', 'im']\n"
     ]
    }
   ],
   "source": [
    "n = int(input(\"Enter a number: \"))\n",
    "list = []\n",
    "\n",
    "for i in range(n):\n",
    "  item = input(\"Enter the name of item: \")\n",
    "  list.append(item)\n",
    "\n",
    "print(list)"
   ]
  },
  {
   "cell_type": "code",
   "execution_count": null,
   "id": "d98a11c9",
   "metadata": {},
   "outputs": [],
   "source": []
  }
 ],
 "metadata": {
  "kernelspec": {
   "display_name": "Python 3 (ipykernel)",
   "language": "python",
   "name": "python3"
  },
  "language_info": {
   "codemirror_mode": {
    "name": "ipython",
    "version": 3
   },
   "file_extension": ".py",
   "mimetype": "text/x-python",
   "name": "python",
   "nbconvert_exporter": "python",
   "pygments_lexer": "ipython3",
   "version": "3.11.4"
  }
 },
 "nbformat": 4,
 "nbformat_minor": 5
}
